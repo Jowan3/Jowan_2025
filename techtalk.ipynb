{
 "cells": [
  {
   "cell_type": "raw",
   "metadata": {
    "vscode": {
     "languageId": "raw"
    }
   },
   "source": [
    "---\n",
    "layout: post\n",
    "title: Mort's Tech Talk on December 6th\n",
    "description: Sprint 4\n",
    "permalink: /techtalk/\n",
    "comments: true \n",
    "sticky_rank: 1\n",
    "---"
   ]
  },
  {
   "cell_type": "code",
   "execution_count": null,
   "metadata": {},
   "outputs": [],
   "source": [
    "After you all shared demos, I would like to kickoff a retrospective with Tech Talk Today.\n",
    "A Sprint Retrospective is a meeting that occurs at the end of each sprint in the Agile framework.   We are adjusting plans via this retrospective, inside a checkpoint within our sprint.\n",
    "Many of you have been led astray with too much static frontend. As stakeholder, for this checkpoint I want to drive backend activity.  As a guide...\n",
    "Teams should have Scrum Planning meeting and adjust to Product Owner requirements provided by me.  Some I stated in our meeting and this message is related to a mandatory action for everyone.\n",
    "Per team, their staff should have 1 to 2 people making commits on frontend this week (they should be already comfortable in backend).   There should be 4 to 6 people making commits on backend, I want everyone to commit in backend this week.  You will show analytics and key code.\n",
    "A Scrum planning meeting is a working session for Scrum teams to align on what will be accomplished during the next sprint and how the work will be completed\n",
    "To facilitate success in project and meet solid CPT requirements I  am providing a notebook and tech talk today to get you started on your replan journey.\n",
    "This Tech Talk notebook is an abbreviated look at backend to shows KEY components of an API.  Some of you could make an API this week that has static data, versus dynamic database data.  In either case you will return JSON that help you build frontend screen.\n",
    "Remember we like to slice watermelon in pieces!  Each person should place this tech talk in personal GitHub pages repository and make it look like data you need to return to frontend.  Scrum Master be sure you account for you team this week on success.\n",
    "You will receive a .55 for week if you do not complete this in blog in personal repository.\n",
    "Completing blog with your own data get .20 boost to .75.\n",
    "Completing at least static API that works from Postman gets you .10 to .85\n",
    "Completing front-end to backend receives a .05 boost to .90 for week. \n",
    "To receive a .95 for week you will drive frontend from dynamic database change that you made.\n",
    "Tech Talk (edited) \n",
    "Scrum.orgScrum.org\n",
    "What is a Sprint Retrospective?\n",
    "During the Sprint Retrospective the Scrum Team inspects how the last Sprint went with regards to individuals, interactions, processes, tools, and their Definition of Done.\n",
    "aha.ioaha.io\n",
    "What Is a Sprint Planning Meeting? Templates and Examples\n",
    "Sprint planning meetings help scrum and development teams align and prioritize work. Learn more about these meetings and why they are important. (130 kB)\n",
    "https://www.aha.io/roadmapping/guide/agile/what-is-a-sprint-planning-meeting\n",
    "\n",
    "Nighthawk PagesNighthawk Pages\n",
    "BI 4.1 Internet - Web Server\n",
    "Quick launch into Flask, sending and receiving data from a web server.\n",
    "Dec 1st"
   ]
  }
 ],
 "metadata": {
  "language_info": {
   "name": "python"
  }
 },
 "nbformat": 4,
 "nbformat_minor": 2
}
