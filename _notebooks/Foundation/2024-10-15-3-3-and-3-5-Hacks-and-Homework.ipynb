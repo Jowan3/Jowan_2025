{
 "cells": [
  {
   "cell_type": "raw",
   "metadata": {
    "vscode": {
     "languageId": "raw"
    }
   },
   "source": [
    "---\n",
    "layout: post\n",
    "title: 3.3 & 3.5 Hacks,Homework\n",
    "description: Sprint 2 homework and Hacks\n",
    "permalink: /threedashthree/\n",
    "course: { csp:{week:1}  } \n",
    "comments: true \n",
    "sticky_rank: 1\n",
    "---"
   ]
  },
  {
   "cell_type": "code",
   "execution_count": 1,
   "metadata": {},
   "outputs": [
    {
     "name": "stdout",
     "output_type": "stream",
     "text": [
      "Addition: 15\n",
      "Subtraction: 5\n",
      "Division: 5.0\n",
      "Modulus: 1\n",
      "Power: 8\n",
      "For x = 3, y = 17\n"
     ]
    }
   ],
   "source": [
    "#3.3\n",
    "\n",
    "# Hack 1: Mathematical Functions\n",
    "\n",
    "def add(a, b):\n",
    "    return a + b\n",
    "\n",
    "def subtract(a, b):\n",
    "    return a - b\n",
    "\n",
    "def divide(a, b):\n",
    "    if b != 0:\n",
    "        return a / b\n",
    "    else:\n",
    "        return \"Division by zero is not allowed\"\n",
    "\n",
    "def modulus(a, b):\n",
    "    return a % b\n",
    "\n",
    "def power(a, b):\n",
    "    return a ** b\n",
    "\n",
    "# Test the functions\n",
    "print(\"Addition:\", add(10, 5))          # 10 + 5 = 15\n",
    "print(\"Subtraction:\", subtract(10, 5))  # 10 - 5 = 5\n",
    "print(\"Division:\", divide(10, 2))       # 10 / 2 = 5\n",
    "print(\"Modulus:\", modulus(10, 3))       # 10 % 3 = 1\n",
    "print(\"Power:\", power(2, 3))            # 2^3 = 8\n",
    "\n",
    "# Hack 2: Find a Point on the Graph of f(x) = 5x + 2\n",
    "\n",
    "def find_y(x):\n",
    "    # Calculate y = 5x + 2\n",
    "    y = 5 * x + 2\n",
    "    return y\n",
    "\n",
    "# Test the function\n",
    "x_value = 3\n",
    "y_value = find_y(x_value)\n",
    "print(f\"For x = {x_value}, y = {y_value}\")  # For x = 3, y = 17\n"
   ]
  },
  {
   "cell_type": "code",
   "execution_count": 2,
   "metadata": {},
   "outputs": [
    {
     "name": "stdout",
     "output_type": "stream",
     "text": [
      "True\n",
      "True\n",
      "False\n",
      "True\n",
      "False\n"
     ]
    }
   ],
   "source": [
    "#3.5\n",
    "\n",
    "# Hack 1: Function to Determine if You Should Go Outside\n",
    "\n",
    "def goOutside(temperature, isRaining):\n",
    "    # If temperature is below 100 degrees and it's raining\n",
    "    if temperature < 100 and isRaining:\n",
    "        return True\n",
    "    # If temperature is above 32 degrees and it's not raining\n",
    "    elif temperature > 32 and not isRaining:\n",
    "        return True\n",
    "    # Otherwise, stay inside\n",
    "    else:\n",
    "        return False\n",
    "\n",
    "# Test\n",
    "print(goOutside(95, True))   # True\n",
    "print(goOutside(40, False))  # True\n",
    "print(goOutside(110, True))  # False\n",
    "\n",
    "# Hack 2: Using De Morgan's Law\n",
    "\n",
    "isRaining = True\n",
    "isCold = False\n",
    "\n",
    "# Expression 1: !(isRaining and isCold)\n",
    "# Using De Morgan's Law: !(A and B) === not A or not B\n",
    "stayInside1 = not isRaining or not isCold\n",
    "\n",
    "# Expression 2: !(isRaining or isCold)\n",
    "# Using De Morgan's Law: !(A or B) === not A and not B\n",
    "stayInside2 = not isRaining and not isCold\n",
    "\n",
    "# Test\n",
    "print(stayInside1)  # Output: True (because not isRaining or not isCold)\n",
    "print(stayInside2)  # Output: False (because not isRaining and not isCold)\n"
   ]
  }
 ],
 "metadata": {
  "kernelspec": {
   "display_name": "venv",
   "language": "python",
   "name": "python3"
  },
  "language_info": {
   "codemirror_mode": {
    "name": "ipython",
    "version": 3
   },
   "file_extension": ".py",
   "mimetype": "text/x-python",
   "name": "python",
   "nbconvert_exporter": "python",
   "pygments_lexer": "ipython3",
   "version": "3.12.5"
  }
 },
 "nbformat": 4,
 "nbformat_minor": 2
}
