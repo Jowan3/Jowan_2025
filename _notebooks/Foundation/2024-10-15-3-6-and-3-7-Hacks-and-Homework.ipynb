{
 "cells": [
  {
   "cell_type": "raw",
   "metadata": {
    "vscode": {
     "languageId": "raw"
    }
   },
   "source": [
    "---\n",
    "layout: post\n",
    "title: 3.6 & 3.7 Hacks,Homework\n",
    "description: Sprint 2 homework and Hacks\n",
    "permalink: /threedashsix/\n",
    "course: { csp:{week:1}  } \n",
    "comments: true \n",
    "sticky_rank: 1\n",
    "---"
   ]
  },
  {
   "cell_type": "code",
   "execution_count": 2,
   "metadata": {},
   "outputs": [
    {
     "name": "stdout",
     "output_type": "stream",
     "text": [
      "F\n",
      "You are eligible to vote.\n",
      "Invalid input! Please enter 'healthy', 'unhealthy', or 'indifferent'.\n"
     ]
    }
   ],
   "source": [
    "# Hack 1: Determine Grade Based on Score\n",
    "\n",
    "def get_grade():\n",
    "    # Prompt the user to enter a score\n",
    "    score = float(input(\"Enter the score (0-100): \"))\n",
    "\n",
    "    # Check conditions to assign grades based on the score\n",
    "    if score >= 90:\n",
    "        print(\"A\")  # A grade for scores 90 and above\n",
    "    elif score >= 80:\n",
    "        print(\"B\")  # B grade for scores between 80 and 89\n",
    "    elif score >= 70:\n",
    "        print(\"C\")  # C grade for scores between 70 and 79\n",
    "    else:\n",
    "        print(\"F\")  # F grade for scores below 70\n",
    "\n",
    "# Call the function to get a grade\n",
    "get_grade()\n",
    "\n",
    "# HW Question 1: Voting Eligibility\n",
    "\n",
    "def check_voting_eligibility():\n",
    "    # Get user input for age\n",
    "    age = int(input(\"Enter your age: \"))\n",
    "\n",
    "    # Determine if the user is eligible to vote\n",
    "    if age >= 18:\n",
    "        print(\"You are eligible to vote.\")\n",
    "    else:\n",
    "        print(\"You are not eligible to vote.\")\n",
    "\n",
    "# Call the function to check voting eligibility\n",
    "check_voting_eligibility()\n",
    "\n",
    "# HW Question 2: Food Choice Based on Health Status\n",
    "\n",
    "def food_choice():\n",
    "    # Get user input for health status\n",
    "    health_status = input(\"Are you healthy, unhealthy, or indifferent about food? (healthy/unhealthy/indifferent): \").strip().lower()\n",
    "\n",
    "    # Suggest food based on health status\n",
    "    if health_status == \"healthy\":\n",
    "        print(\"You should eat an apple!\")\n",
    "    elif health_status == \"unhealthy\":\n",
    "        print(\"You should eat chocolate!\")\n",
    "    elif health_status == \"indifferent\":\n",
    "        print(\"You don't care about what you eat. How about a coffee?\")\n",
    "    else:\n",
    "        print(\"Invalid input! Please enter 'healthy', 'unhealthy', or 'indifferent'.\")\n",
    "\n",
    "# Call the function to suggest food choice\n",
    "food_choice()\n"
   ]
  }
 ],
 "metadata": {
  "kernelspec": {
   "display_name": "venv",
   "language": "python",
   "name": "python3"
  },
  "language_info": {
   "codemirror_mode": {
    "name": "ipython",
    "version": 3
   },
   "file_extension": ".py",
   "mimetype": "text/x-python",
   "name": "python",
   "nbconvert_exporter": "python",
   "pygments_lexer": "ipython3",
   "version": "3.12.5"
  }
 },
 "nbformat": 4,
 "nbformat_minor": 2
}
