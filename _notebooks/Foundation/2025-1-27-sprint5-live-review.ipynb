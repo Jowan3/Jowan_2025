{
 "cells": [
  {
   "cell_type": "raw",
   "metadata": {
    "vscode": {
     "languageId": "raw"
    }
   },
   "source": [
    "---\n",
    "layout: post\n",
    "title: Sprint 5 live review\n",
    "description: Review for sprint 5\n",
    "permalink: /livereview/\n",
    "comments: true \n",
    "sticky_rank: 1\n",
    "---"
   ]
  },
  {
   "cell_type": "markdown",
   "metadata": {},
   "source": [
    "The purpose of our group creating a chess game website \"Pwansy\" is to provide an engaging platform for players to compete, track their progress, and enhance their skills through interactive features.\n",
    "\n",
    "**Purpose of the project**\n",
    "- Created a chess game website to promote competitive play and provide players with real-time leaderboards and game tracking.\n",
    "\n",
    "**indivisual feature**\n",
    "\n",
    "frontend design \n",
    "\n",
    "- created a leaderboard component to display top players and their scores.\n",
    "- Designed a runner-up table to highlight additional competitors.\n",
    "\n",
    "Database Integration:\n",
    "\n",
    "- Set up a database to store player stats, game results, and ranking data.\n",
    "- Implemented methods to retrieve, update, and back up the database.\n",
    "\n",
    "**API**\n",
    "\n",
    "Defined methods for CRUD operations:\n",
    "GET for retrieving player rankings.\n",
    "POST for adding new players or game results.\n",
    "PUT for updating scores or ranks.\n",
    "DELETE for removing inactive players.\n",
    "Class Methods:\n",
    "\n",
    "- Wrote methods for sequencing (fetching and sorting scores), selection (filtering top players), and iteration (looping through player data).\n",
    "\n",
    "**input/ output group**\n",
    "\n",
    "Frontend Input/Output:\n",
    "\n",
    "Integrated a playable chessboard for users to play games.\n",
    "Created an input form for players to submit scores or join the game.\n",
    "Displayed API responses dynamically in the leaderboard and runners-up table.\n",
    "Postman Testing:\n",
    "\n",
    "Tested all API endpoints using Postman to ensure they return correct RESTful responses.\n",
    "Demonstrated error handling with status codes (e.g., 200 for success, 404 for errors).\n",
    "\n",
    "\n"
   ]
  }
 ],
 "metadata": {
  "kernelspec": {
   "display_name": "venv",
   "language": "python",
   "name": "python3"
  },
  "language_info": {
   "name": "python",
   "version": "3.12.5"
  }
 },
 "nbformat": 4,
 "nbformat_minor": 2
}
