
{
 "cells": [
  {
   "cell_type": "markdown",
   "metadata": {
    "vscode": {
     "languageId": "raw"
    }
   },
   "source": [
    "---\n",
    "layout: post\n",
    "title: Homepage\n",
    "description: Sprint 2 homepage\n",
    "course: { csp:{week:1}  } \n",
    "comments: true \n",
    "sticky_rank: 1\n",
    "---"
   ]
  },
  {
   "cell_type": "markdown",
   "metadata": {},
   "source": [
    "\n",
    "<table>\n",
    "    <tr>\n",
    "     <td><a href=\"{{site.baseurl}}/threedashone/\">3.1 & 3.4 Hacks,Homework</a></td>\n",
    "     <td><a href=\"{{site.baseurl}}/threedashthree/\">3.3 & 3.5 Hacks,Homework</a><td>\n",
    "     <td><a href=\"{{site.baseurl}}/threedashsix/\">3.6 & 3.7 Hacks,Homework</a></td>\n",
    "     <td><a href=\"{{site.baseurl}}/threedashten/\">3.10 Hacks,Homework</a></td>\n",
    " </tr>\n",
    " </table>"
   ]
  }
 ],
 "metadata": {
  "kernelspec": {
   "display_name": "venv",
   "language": "python",
   "name": "python3"
  },
  "language_info": {
   "name": "python",
   "version": "3.12.5"
  }
 },
 "nbformat": 4,
 "nbformat_minor": 2
}