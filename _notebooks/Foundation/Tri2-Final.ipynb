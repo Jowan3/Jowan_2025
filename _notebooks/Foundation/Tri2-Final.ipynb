{
 "cells": [
  {
   "cell_type": "raw",
   "metadata": {
    "vscode": {
     "languageId": "raw"
    }
   },
   "source": [
    "---\n",
    "layout: post\n",
    "title: Final Review\n",
    "description: Review of Everything I've done/learned this tri\n",
    "permalink: /finalreview/\n",
    "comments: true \n",
    "sticky_rank: 1\n",
    "---"
   ]
  },
  {
   "cell_type": "markdown",
   "metadata": {},
   "source": [
    "### Night At The Museum \n",
    "\n",
    "![N@tm data](https://files.slack.com/files-tmb/TUDAF53UJ-F08FR3NSH4M-aa4f624e3a/screenshot_2025-03-02_at_10.53.43___pm_720.png)\n",
    "\n",
    "## What They Liked:\n",
    "- Fun and engaging experience.\n",
    "- Clean design with a user-friendly interface.\n",
    "- Stockfish chess engine integration was impressive.\n",
    "- Move analysis and skill rating were helpful for improvement.\n",
    "- Post-game images added a nice touch.\n",
    "- Leaderboard and ranking features were appreciated.\n",
    "- ELO selection and review features were useful.\n",
    "- Downloading and analyzing games via PNG was a cool idea.\n",
    "\n",
    "## Areas for Improvement:\n",
    "- Show more than just the chess feature for variety.\n",
    "- Improve UI styling (make it more consistent and polished).\n",
    "- Make ELO selection UI more elegant.\n",
    "- Add an edit feature for reviewing chess moves.\n",
    "- Enhance color usage for a more visually appealing site.\n",
    "- Clarify chess bot strategy (does it play optimally or randomly?).\n",
    "- Consider adding a token system if relevant.\n",
    "\n",
    "## MCQ reveiw \n",
    "\n",
    "My MCQ review: after this trimester i found it easier to take the test becasue i had more knowledge on the topic. Though i did imporve since my orginal test i do have a lot of things that i need to work on especially topics around Big Ideas 2.2 (basic analysis of algorithms and binary numbers) as well as Big Idea\n",
    "\n",
    "\n",
    "\n",
    "Big Ideas -\n",
    "\n",
    "\n",
    "\n",
    "\n",
    "### 6. Jowan Elzein 5-point Burndown\n",
    "- Developed Chess Wiki Resource Hub – Designed and implemented a structured resource table with curated chess tips, strategy guides, and opening principles. Integrated external links for easy access to learning materials.\n",
    "- Created Interactive Chat System – Built a user-submitted recommendations section with a chatbox, allowing users to post and discuss chess tips. Implemented backend API integration for storing, retrieving, and moderating user messages.\n",
    "- Designed Thematic User Interface – Styled the page using SASS principles, applying a dark mode theme with hover effects, structured layouts, and a background image for an immersive experience\n",
    "- Integrated User API & Role-Based Access – Enabled API calls to retrieve user roles, allowing admins to update and delete messages, ensuring content moderation and interactive discussions\n",
    "- Optimized UX and Navigation – Improved overall page organization, ensuring consistency with the team’s design system. Identified and resolved navigation issues to enhance user experience\n",
    "\n",
    "## My personal feature \n",
    "\n",
    "As the Frontend UX Engineer, It was my job to keep the ongoing simplistic theme of the website with greys, blacks and white to give a clean look to it. Throughout the process I advised Vasanth to change his skills table from red to grey to better align with the overall styling of the website, this ensured a more cohesive and professional look. we also adressed the issue that our navigation bar was disorganized, and users were being directed to a 404 error page upon logging in. This feedback led Nikhil to fix the navigation structure, improving the user flow and accessibility\n",
    "\n",
    "User Interaction - Chat System\n",
    "A chatbox allows users to submit messages related to chess recommendations.\n",
    "Users can add messages via an input field, which are then displayed dynamically in the chat window.\n",
    "Admin users have additional permissions to update or delete messages, ensuring content moderation.\n",
    "\n",
    "4. Thematic Styling & User Experience (UX)\n",
    "The entire page is styled in dark mode with a sleek black, white, and grey theme, aligning with the aesthetic of a professional chess website.\n",
    "The hover effect on the table improves usability by making it easier to scan through resources.\n",
    "The background image and fonts enhance visual appeal while maintaining readability.\n",
    "\n",
    "\n",
    "##CPT requirments \n",
    "\n",
    "#Big Idea 1.3\n",
    "Induvidual: Contributed to the overall frontend appeal of the website. I focused on adding things like images or specific fonts and colors to make our website organized.\n",
    "\n",
    "#Big Idea 1.1 & 1.2\n",
    "Induvidual: Created the To-Do list on the Kanban board to ensure proper organiization and the use of the SCRUM method.\n",
    "Team: As a team, we focused on using the agile method and things like CRUD"
   ]
  }
 ],
 "metadata": {
  "kernelspec": {
   "display_name": "venv",
   "language": "python",
   "name": "python3"
  },
  "language_info": {
   "name": "python",
   "version": "3.12.5"
  }
 },
 "nbformat": 4,
 "nbformat_minor": 2
}
