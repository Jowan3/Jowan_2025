{
 "cells": [
  {
   "cell_type": "raw",
   "metadata": {
    "vscode": {
     "languageId": "raw"
    }
   },
   "source": [
    "---\n",
    "layout: post\n",
    "title: Final Review\n",
    "description: Review of Everything I've done/learned this tri\n",
    "permalink: /finalreview/\n",
    "comments: true \n",
    "sticky_rank: 1\n",
    "---"
   ]
  },
  {
   "cell_type": "markdown",
   "metadata": {},
   "source": [
    "### Night At The Museum \n",
    "\n",
    "![N@tm data](https://files.slack.com/files-tmb/TUDAF53UJ-F08FR3NSH4M-aa4f624e3a/screenshot_2025-03-02_at_10.53.43___pm_720.png)\n",
    "\n",
    "\n",
    "\n",
    "### 6. Jowan Elzein 5-point Burndown\n",
    "- Developed Chess Wiki Resource Hub – Designed and implemented a structured resource table with curated chess tips, strategy guides, and opening principles. Integrated external links for easy access to learning materials.\n",
    "- Created Interactive Chat System – Built a user-submitted recommendations section with a chatbox, allowing users to post and discuss chess tips. Implemented backend API integration for storing, retrieving, and moderating user messages.\n",
    "- Designed Thematic User Interface – Styled the page using SASS principles, applying a dark mode theme with hover effects, structured layouts, and a background image for an immersive experience\n",
    "- Integrated User API & Role-Based Access – Enabled API calls to retrieve user roles, allowing admins to update and delete messages, ensuring content moderation and interactive discussions\n",
    "- Optimized UX and Navigation – Improved overall page organization, ensuring consistency with the team’s design system. Identified and resolved navigation issues to enhance user experience\n"
   ]
  }
 ],
 "metadata": {
  "kernelspec": {
   "display_name": "venv",
   "language": "python",
   "name": "python3"
  },
  "language_info": {
   "name": "python",
   "version": "3.12.5"
  }
 },
 "nbformat": 4,
 "nbformat_minor": 2
}
