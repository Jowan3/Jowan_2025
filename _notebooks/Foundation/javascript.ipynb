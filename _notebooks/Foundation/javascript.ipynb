{
 "cells": [
  {
   "cell_type": "raw",
   "metadata": {
    "vscode": {
     "languageId": "raw"
    }
   },
   "source": [
    "---\n",
    "layout: post\n",
    "title: Notebooks JavaScript Cell\n",
    "description: Hack #2 Github pages Playground\n",
    "catergories: [Sprint1]\n",
    "permalink: /home/Notebooks\n",
    "menu: nav/home.html\n",
    "comments: true\n",
    "---"
   ]
  },
  {
   "cell_type": "code",
   "execution_count": null,
   "metadata": {},
   "outputs": [],
   "source": [
    "msg = \"welcome to my notebooks!\"\n",
    "print(msg)"
   ]
  }
 ],
 "metadata": {
  "language_info": {
   "name": "python"
  }
 },
 "nbformat": 4,
 "nbformat_minor": 2
}
